{
  "nbformat": 4,
  "nbformat_minor": 0,
  "metadata": {
    "colab": {
      "provenance": [],
      "authorship_tag": "ABX9TyPMTQgywzMCg5rQmxAiVxwv",
      "include_colab_link": true
    },
    "kernelspec": {
      "name": "python3",
      "display_name": "Python 3"
    },
    "language_info": {
      "name": "python"
    }
  },
  "cells": [
    {
      "cell_type": "markdown",
      "metadata": {
        "id": "view-in-github",
        "colab_type": "text"
      },
      "source": [
        "<a href=\"https://colab.research.google.com/github/codebybishwa/Attendance-Tracker/blob/main/Updated_Attendance_Tracker.ipynb\" target=\"_parent\"><img src=\"https://colab.research.google.com/assets/colab-badge.svg\" alt=\"Open In Colab\"/></a>"
      ]
    },
    {
      "cell_type": "code",
      "execution_count": 1,
      "metadata": {
        "id": "Y38r64gdyoz-"
      },
      "outputs": [],
      "source": [
        "import pandas as pd\n",
        "import openpyxl\n",
        "from openpyxl.styles import PatternFill\n",
        "from datetime import datetime, timedelta"
      ]
    },
    {
      "cell_type": "code",
      "source": [],
      "metadata": {
        "colab": {
          "base_uri": "https://localhost:8080/"
        },
        "id": "_qmGmxX0zPkC",
        "outputId": "a785af0c-92bc-415e-a4e9-cfb2019456d9"
      },
      "execution_count": 2,
      "outputs": [
        {
          "output_type": "stream",
          "name": "stdout",
          "text": [
            "Students List (First 5): ['2201CB05 Ade Balakrishna', '2201CB11 Anvaya Sharma', '2201CB19 Chhavi Bamoriya', '2201CB21 Dharmraj Dhaker', '2201CB25 Harshita Singh']\n",
            "Lecture Dates: ['06/08/2024', '13/08/2024', '20/08/2024', '27/08/2024', '03/09/2024', '17/09/2024', '01/10/2024']\n",
            "Class Timing: 18:00 - 20:00\n",
            "Attendance Data (First 5 rows):\n",
            "             Timestamp                           Roll\n",
            "0  06/08/2024 18:18:23           2201MM26 Rudra Goyal\n",
            "1  06/08/2024 18:18:26  2201CE30 Lakshya Pratap Singh\n",
            "2  06/08/2024 18:18:26       2201CB19 Chhavi Bamoriya\n",
            "3  06/08/2024 18:18:28          2201CE31 Mayank Kumar\n",
            "4  06/08/2024 18:18:31         2201CB35 Nakka Supraja\n"
          ]
        }
      ]
    },
    {
      "cell_type": "code",
      "source": [
        "from openpyxl import Workbook\n",
        "from openpyxl.styles import PatternFill\n",
        "from datetime import datetime\n",
        "\n",
        "\n",
        "def clean_class_timing(class_timing):\n",
        "    \"\"\"\n",
        "    Ensures that class_timing is a valid string and handles cases where the double quotes are missing.\n",
        "    Returns a cleaned class_timing string with the proper format 'HH:MM - HH:MM'.\n",
        "    \"\"\"\n",
        "    # Remove any non-numeric, colon, or dash characters at the ends (like spaces or quotes)\n",
        "    class_timing = class_timing.strip()\n",
        "\n",
        "    if \" - \" not in class_timing:\n",
        "        raise ValueError(f\"Invalid class_timing format: {class_timing}\")\n",
        "\n",
        "    return class_timing\n",
        "\n",
        "def process_attendance(students, lecture_dates, attendance, class_timing):\n",
        "    \"\"\"\n",
        "    Processes attendance data and generates an attendance record indicating if a student\n",
        "    was absent (0), partially present (1), fully present (2), or extra (proxy).\n",
        "    \"\"\"\n",
        "\n",
        "    class_timing = clean_class_timing(class_timing)\n",
        "    start_str, end_str = class_timing.split(\" - \")\n",
        "    start_time = datetime.strptime(start_str, \"%H:%M\").time()\n",
        "    end_time = datetime.strptime(end_str, \"%H:%M\").time()\n",
        "\n",
        "    # Convert Timestamp to datetime\n",
        "    attendance['Timestamp'] = pd.to_datetime(attendance['Timestamp'], format='%d/%m/%Y %H:%M:%S', errors='raise')\n",
        "\n",
        "    # Initialize the attendance record with zeros (absent)\n",
        "    attendance_record = {student: {date: 0 for date in lecture_dates} for student in students}\n",
        "    proxy_record = {student: 0 for student in students}  # Track proxies\n",
        "\n",
        "    total_classes = len(lecture_dates) * 2  # Two classes per day\n",
        "\n",
        "    for lecture_date in lecture_dates:\n",
        "        lecture_start = f\"{lecture_date} {start_time.strftime('%H:%M:%S')}\"\n",
        "        lecture_end = f\"{lecture_date} {end_time.strftime('%H:%M:%S')}\"\n",
        "        lecture_start_dt = datetime.strptime(lecture_start, '%d/%m/%Y %H:%M:%S')\n",
        "        lecture_end_dt = datetime.strptime(lecture_end, '%d/%m/%Y %H:%M:%S')\n",
        "\n",
        "        # Filter attendance for the given lecture date and within the class timing\n",
        "        lecture_attendance = attendance[(attendance['Timestamp'] >= lecture_start_dt) & (attendance['Timestamp'] <= lecture_end_dt)]\n",
        "\n",
        "        for student in students:\n",
        "            # Get attendance counts for the student on this date\n",
        "            student_attendance = lecture_attendance[lecture_attendance['Roll'] == student]\n",
        "            attend_count = len(student_attendance)\n",
        "\n",
        "            # Mark attendance based on the count\n",
        "            if attend_count > 2:\n",
        "                attendance_record[student][lecture_date] = attend_count  # Mark the actual count\n",
        "                proxy_record[student] += attend_count - 2  # Count proxies\n",
        "            else:\n",
        "                attendance_record[student][lecture_date] = attend_count  # Mark as 0, 1, or 2\n",
        "\n",
        "    return attendance_record, proxy_record, total_classes\n",
        "\n",
        "\n",
        "def calculate_summary(attendance_record, proxy_record, lecture_dates, total_classes):\n",
        "    \"\"\"\n",
        "    Calculates the attendance summary for each student including missed, attended, percentage attended,\n",
        "    and percentage missed.\n",
        "    \"\"\"\n",
        "    summary = {}\n",
        "\n",
        "    for student, attendance_data in attendance_record.items():\n",
        "        attended_classes = sum(attendance_data[date] for date in lecture_dates)\n",
        "        missed_classes = total_classes - attended_classes\n",
        "        percentage_attended = (attended_classes / total_classes) * 100\n",
        "        percentage_missed = (missed_classes / total_classes) * 100\n",
        "        total_proxy = proxy_record[student]\n",
        "\n",
        "        summary[student] = {\n",
        "            'missed': missed_classes,\n",
        "            'attended': attended_classes,\n",
        "            'percentage_attended': percentage_attended,\n",
        "            'percentage_missed': percentage_missed,\n",
        "            'proxy': total_proxy\n",
        "        }\n",
        "\n",
        "    return summary"
      ],
      "metadata": {
        "id": "ifnmkwbPzR8p"
      },
      "execution_count": 26,
      "outputs": []
    },
    {
      "cell_type": "code",
      "source": [
        "# Process the attendance and output the intermediate attendance record\n",
        "attendance_record, proxy_record, total_classes = process_attendance(students, lecture_dates, attendance, class_timing) # Unpack the returned tuple into three variables\n",
        "\n",
        "# Calculate summary data using proxy_record and total_classes\n",
        "summary_data = calculate_summary(attendance_record, proxy_record, lecture_dates, total_classes)\n",
        "\n",
        "# Output intermediate data for checking\n",
        "print(\"\\nAttendance Record (First 5 Students):\")\n",
        "for student, record in list(attendance_record.items())[:5]:\n",
        "    print(f\"{student}: {record}\")"
      ],
      "metadata": {
        "colab": {
          "base_uri": "https://localhost:8080/"
        },
        "id": "YKjiI7wvzVK2",
        "outputId": "b21090a7-8c47-4135-9bad-5f976efd774d"
      },
      "execution_count": 28,
      "outputs": [
        {
          "output_type": "stream",
          "name": "stdout",
          "text": [
            "\n",
            "Attendance Record (First 5 Students):\n",
            "2201CB05 Ade Balakrishna: {'06/08/2024': 2, '13/08/2024': 2, '20/08/2024': 2, '27/08/2024': 2, '03/09/2024': 2, '17/09/2024': 0, '01/10/2024': 2}\n",
            "2201CB11 Anvaya Sharma: {'06/08/2024': 2, '13/08/2024': 2, '20/08/2024': 2, '27/08/2024': 2, '03/09/2024': 2, '17/09/2024': 2, '01/10/2024': 2}\n",
            "2201CB19 Chhavi Bamoriya: {'06/08/2024': 2, '13/08/2024': 2, '20/08/2024': 2, '27/08/2024': 2, '03/09/2024': 2, '17/09/2024': 2, '01/10/2024': 2}\n",
            "2201CB21 Dharmraj Dhaker: {'06/08/2024': 2, '13/08/2024': 2, '20/08/2024': 1, '27/08/2024': 2, '03/09/2024': 2, '17/09/2024': 2, '01/10/2024': 1}\n",
            "2201CB25 Harshita Singh: {'06/08/2024': 1, '13/08/2024': 2, '20/08/2024': 2, '27/08/2024': 2, '03/09/2024': 2, '17/09/2024': 2, '01/10/2024': 2}\n"
          ]
        }
      ]
    },
    {
      "cell_type": "code",
      "source": [
        "def generate_excel(attendance_record, proxy_record, summary, lecture_dates):\n",
        "    \"\"\"\n",
        "    Generates an Excel file with attendance records and summary statistics.\n",
        "    \"\"\"\n",
        "    wb = Workbook()\n",
        "    ws = wb.active\n",
        "    ws.title = 'Attendance Record'\n",
        "\n",
        "    # Add header row\n",
        "    ws.cell(row=1, column=1, value='Roll No.')\n",
        "    for i, date in enumerate(lecture_dates, start=2):\n",
        "        ws.cell(row=1, column=i, value=date)\n",
        "    ws.cell(row=1, column=len(lecture_dates) + 2, value='Proxy')\n",
        "    ws.cell(row=1, column=len(lecture_dates) + 3, value='Missed')\n",
        "    ws.cell(row=1, column=len(lecture_dates) + 4, value='Attended')\n",
        "    ws.cell(row=1, column=len(lecture_dates) + 5, value='Percentage Attended')\n",
        "    ws.cell(row=1, column=len(lecture_dates) + 6, value='Percentage Missed')\n",
        "\n",
        "    # Color fills\n",
        "    fill_absent = PatternFill(start_color=\"FF0000\", end_color=\"FF0000\", fill_type=\"solid\")  # Red\n",
        "    fill_partial = PatternFill(start_color=\"FFFF00\", end_color=\"FFFF00\", fill_type=\"solid\")  # Yellow\n",
        "    fill_full = PatternFill(start_color=\"00FF00\", end_color=\"00FF00\", fill_type=\"solid\")    # Green\n",
        "\n",
        "    # Add data rows\n",
        "    for row_idx, (student, attendance_data) in enumerate(attendance_record.items(), start=2):\n",
        "        ws.cell(row=row_idx, column=1, value=student)  # Student Roll No.\n",
        "\n",
        "        for col_idx, date in enumerate(lecture_dates, start=2):\n",
        "            attend_count = attendance_data[date]\n",
        "            cell = ws.cell(row=row_idx, column=col_idx, value=attend_count)\n",
        "\n",
        "            # Apply color based on attendance count\n",
        "            if attend_count == 0:\n",
        "                cell.fill = fill_absent\n",
        "            elif attend_count == 1:\n",
        "                cell.fill = fill_partial\n",
        "            else:\n",
        "                cell.fill = fill_full  # Green for >= 2 attendances\n",
        "\n",
        "        # Add proxy, missed, attended, percentages\n",
        "        ws.cell(row=row_idx, column=len(lecture_dates) + 2, value=proxy_record[student])\n",
        "        ws.cell(row=row_idx, column=len(lecture_dates) + 3, value=summary[student]['missed'])\n",
        "        ws.cell(row=row_idx, column=len(lecture_dates) + 4, value=summary[student]['attended'])\n",
        "        ws.cell(row=row_idx, column=len(lecture_dates) + 5, value=summary[student]['percentage_attended'])\n",
        "        ws.cell(row=row_idx, column=len(lecture_dates) + 6, value=summary[student]['percentage_missed'])\n",
        "\n",
        "    # Save the workbook\n",
        "    wb.save('output_excel_with_proxy.xlsx')"
      ],
      "metadata": {
        "id": "n0CVpTh-zXwj"
      },
      "execution_count": 29,
      "outputs": []
    },
    {
      "cell_type": "code",
      "source": [
        "students, lecture_dates, attendance, class_timing = read_files()"
      ],
      "metadata": {
        "id": "AC2ejAITzbAq"
      },
      "execution_count": 30,
      "outputs": []
    },
    {
      "cell_type": "code",
      "source": [
        "attendance_record = process_attendance(students, lecture_dates, attendance, class_timing)"
      ],
      "metadata": {
        "id": "q2junn8bzdH0"
      },
      "execution_count": 31,
      "outputs": []
    },
    {
      "cell_type": "code",
      "source": [
        "attendance_record, proxy_record, total_classes = process_attendance(students, lecture_dates, attendance, class_timing)  # Unpack the returned tuple into three variables\n",
        "\n",
        "# Calculate summary data using proxy_record and total_classes\n",
        "summary_data = calculate_summary(attendance_record, proxy_record, lecture_dates, total_classes)\n",
        "\n",
        "# Call generate_excel with the correct arguments\n",
        "generate_excel(attendance_record, proxy_record, summary_data, lecture_dates)"
      ],
      "metadata": {
        "id": "vA8X8fObzhxP"
      },
      "execution_count": 34,
      "outputs": []
    },
    {
      "cell_type": "code",
      "source": [],
      "metadata": {
        "id": "eXAzsNu2zj7F"
      },
      "execution_count": null,
      "outputs": []
    }
  ]
}