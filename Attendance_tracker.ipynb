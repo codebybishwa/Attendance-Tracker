{
  "nbformat": 4,
  "nbformat_minor": 0,
  "metadata": {
    "colab": {
      "provenance": [],
      "authorship_tag": "ABX9TyOam3EGE/d4Hy9JL7/d2bdB",
      "include_colab_link": true
    },
    "kernelspec": {
      "name": "python3",
      "display_name": "Python 3"
    },
    "language_info": {
      "name": "python"
    }
  },
  "cells": [
    {
      "cell_type": "markdown",
      "metadata": {
        "id": "view-in-github",
        "colab_type": "text"
      },
      "source": [
        "<a href=\"https://colab.research.google.com/github/codebybishwa/Attendance-Tracker/blob/main/Attendance_tracker.ipynb\" target=\"_parent\"><img src=\"https://colab.research.google.com/assets/colab-badge.svg\" alt=\"Open In Colab\"/></a>"
      ]
    },
    {
      "cell_type": "code",
      "execution_count": 57,
      "metadata": {
        "id": "0EkYatc0L3Ar"
      },
      "outputs": [],
      "source": [
        "import pandas as pd\n",
        "import openpyxl\n",
        "from openpyxl.styles import PatternFill\n",
        "from datetime import datetime, timedelta"
      ]
    },
    {
      "cell_type": "code",
      "source": [
        "# Function to read files\n",
        "def read_files():\n",
        "\n",
        "    with open('/content/stud_list.txt', 'r') as file:\n",
        "        students = [line.strip() for line in file.readlines()]\n",
        "\n",
        "\n",
        "    with open('/content/python dates.txt', 'r') as file:\n",
        "        content = file.read()\n",
        "\n",
        "    # Creating a dictionary to store the values from python dates.txt\n",
        "    date_vars = {}\n",
        "    exec(content, {}, date_vars)\n",
        "\n",
        "    lecture_dates = date_vars.get(\"classes_taken_dates\", [])\n",
        "    missed_dates = date_vars.get(\"classes_missed_dates\", [])\n",
        "    exam_dates = date_vars.get(\"exams_dates\", [])\n",
        "    class_timing = date_vars.get(\"class_timing\", \"18:00 - 20:00\")\n",
        "\n",
        "\n",
        "\n",
        "    attendance = pd.read_csv('/content/input_attendance.csv', parse_dates=['Timestamp'])\n",
        "\n",
        "    return students, lecture_dates, attendance, class_timing"
      ],
      "metadata": {
        "id": "gbxTn96KRgkO"
      },
      "execution_count": 58,
      "outputs": []
    },
    {
      "cell_type": "code",
      "source": [
        "# After reading files, let's output and inspect the data.\n",
        "students, lecture_dates, attendance, class_timing = read_files()\n",
        "\n",
        "print(\"Students List:\", students[:5])\n",
        "print(\"Lecture Dates:\", lecture_dates)\n",
        "print(\"Class Timing:\", class_timing)\n",
        "print(\"Attendance Data (First 5 rows):\")\n",
        "print(attendance.head())"
      ],
      "metadata": {
        "colab": {
          "base_uri": "https://localhost:8080/"
        },
        "id": "L0IY5uNgbK09",
        "outputId": "91033003-a82f-479a-8223-03c21bd164c6"
      },
      "execution_count": 59,
      "outputs": [
        {
          "output_type": "stream",
          "name": "stdout",
          "text": [
            "Students List: ['2201CB05 Ade Balakrishna', '2201CB11 Anvaya Sharma', '2201CB19 Chhavi Bamoriya', '2201CB21 Dharmraj Dhaker', '2201CB25 Harshita Singh']\n",
            "Lecture Dates: ['06/08/2024', '13/08/2024', '20/08/2024', '27/08/2024', '03/09/2024', '17/09/2024', '01/10/2024']\n",
            "Class Timing: 18:00 - 20:00\n",
            "Attendance Data (First 5 rows):\n",
            "             Timestamp                           Roll\n",
            "0  06/08/2024 18:18:23           2201MM26 Rudra Goyal\n",
            "1  06/08/2024 18:18:26  2201CE30 Lakshya Pratap Singh\n",
            "2  06/08/2024 18:18:26       2201CB19 Chhavi Bamoriya\n",
            "3  06/08/2024 18:18:28          2201CE31 Mayank Kumar\n",
            "4  06/08/2024 18:18:31         2201CB35 Nakka Supraja\n"
          ]
        }
      ]
    },
    {
      "cell_type": "code",
      "source": [
        "def process_attendance(students, lecture_dates, attendance, class_timing):\n",
        "\n",
        "    start_str, end_str = class_timing.split(\" - \")\n",
        "    start_time = datetime.strptime(start_str, \"%H:%M\").time()\n",
        "    end_time = datetime.strptime(end_str, \"%H:%M\").time()\n",
        "\n",
        "    attendance['Timestamp'] = pd.to_datetime(attendance['Timestamp'], format='%d/%m/%Y %H:%M:%S', errors='raise')\n",
        "\n",
        "    # Initializing a dictionary to store attendance data for each student\n",
        "    attendance_record = {student: {date: 0 for date in lecture_dates} for student in students}\n",
        "\n",
        "    for lecture_date in lecture_dates:\n",
        "        lecture_start_str = f\"{lecture_date} {start_time.strftime('%H:%M:%S')}\"\n",
        "        lecture_end_str = f\"{lecture_date} {end_time.strftime('%H:%M:%S')}\"\n",
        "\n",
        "        try:\n",
        "            lecture_start = datetime.strptime(lecture_start_str, '%d/%m/%Y %H:%M:%S')\n",
        "            lecture_end = datetime.strptime(lecture_end_str, '%d/%m/%Y %H:%M:%S')\n",
        "        except ValueError as e:\n",
        "            print(f\"Error parsing date: {lecture_date} - {e}\")\n",
        "            continue\n",
        "\n",
        "        lecture_attendance = attendance[(attendance['Timestamp'] >= lecture_start) & (attendance['Timestamp'] <= lecture_end)]\n",
        "\n",
        "        for _, row in lecture_attendance.iterrows():\n",
        "            student_roll = row['Roll']\n",
        "            timestamp = row['Timestamp']\n",
        "\n",
        "            if student_roll in attendance_record:\n",
        "                if lecture_start <= timestamp <= lecture_end:\n",
        "                    if attendance_record[student_roll][lecture_date] == 0:  # If absent\n",
        "                        attendance_record[student_roll][lecture_date] = 1  # Mark partial attendance\n",
        "                    elif attendance_record[student_roll][lecture_date] == 1:  # If already marked partial\n",
        "                        attendance_record[student_roll][lecture_date] = 2  # Mark full attendance\n",
        "\n",
        "    return attendance_record"
      ],
      "metadata": {
        "id": "Z4ITUtRnR9Kk"
      },
      "execution_count": 60,
      "outputs": []
    },
    {
      "cell_type": "code",
      "source": [
        "# Process the attendance and output the intermediate attendance record\n",
        "attendance_record = process_attendance(students, lecture_dates, attendance, class_timing)\n",
        "\n",
        "# Output intermediate data for checking\n",
        "print(\"\\nAttendance Record (First 5 Students):\")\n",
        "for student, record in list(attendance_record.items())[:5]:\n",
        "    print(f\"{student}: {record}\")"
      ],
      "metadata": {
        "colab": {
          "base_uri": "https://localhost:8080/"
        },
        "id": "ftCJG3rPd77q",
        "outputId": "99441774-b7ba-4641-8b2f-614c6a2fed9d"
      },
      "execution_count": 62,
      "outputs": [
        {
          "output_type": "stream",
          "name": "stdout",
          "text": [
            "\n",
            "Attendance Record (First 5 Students):\n",
            "2201CB05 Ade Balakrishna: {'06/08/2024': 2, '13/08/2024': 2, '20/08/2024': 2, '27/08/2024': 2, '03/09/2024': 2, '17/09/2024': 0, '01/10/2024': 2}\n",
            "2201CB11 Anvaya Sharma: {'06/08/2024': 2, '13/08/2024': 2, '20/08/2024': 2, '27/08/2024': 2, '03/09/2024': 2, '17/09/2024': 2, '01/10/2024': 2}\n",
            "2201CB19 Chhavi Bamoriya: {'06/08/2024': 2, '13/08/2024': 2, '20/08/2024': 2, '27/08/2024': 2, '03/09/2024': 2, '17/09/2024': 2, '01/10/2024': 2}\n",
            "2201CB21 Dharmraj Dhaker: {'06/08/2024': 2, '13/08/2024': 2, '20/08/2024': 1, '27/08/2024': 2, '03/09/2024': 2, '17/09/2024': 2, '01/10/2024': 1}\n",
            "2201CB25 Harshita Singh: {'06/08/2024': 1, '13/08/2024': 2, '20/08/2024': 2, '27/08/2024': 2, '03/09/2024': 2, '17/09/2024': 2, '01/10/2024': 2}\n"
          ]
        }
      ]
    },
    {
      "cell_type": "code",
      "source": [
        "import openpyxl\n",
        "from openpyxl.styles import PatternFill\n",
        "\n",
        "def generate_excel(attendance_record, lecture_dates):\n",
        "\n",
        "    wb = openpyxl.Workbook()\n",
        "    ws = wb.active\n",
        "    ws.title = 'Attendance Record'\n",
        "\n",
        "\n",
        "    ws.cell(row=1, column=1, value='Roll No.')\n",
        "    for i, date in enumerate(lecture_dates, start=2):\n",
        "        ws.cell(row=1, column=i, value=date)\n",
        "\n",
        "\n",
        "    fill_absent = PatternFill(start_color=\"FF0000\", end_color=\"FF0000\", fill_type=\"solid\")  # Red for absent\n",
        "    fill_partial = PatternFill(start_color=\"FFFF00\", end_color=\"FFFF00\", fill_type=\"solid\")  # Yellow for partial\n",
        "    fill_full = PatternFill(start_color=\"00FF00\", end_color=\"00FF00\", fill_type=\"solid\")    # Green for full\n",
        "\n",
        "\n",
        "    for row_idx, (student_roll, attendance_data) in enumerate(attendance_record.items(), start=2):\n",
        "        ws.cell(row=row_idx, column=1, value=student_roll)  # Roll number\n",
        "\n",
        "        for col_idx, date in enumerate(lecture_dates, start=2):\n",
        "            attendance_status = attendance_data[date]\n",
        "            cell = ws.cell(row=row_idx, column=col_idx, value=attendance_status)\n",
        "\n",
        "            # Applying color based on attendance status\n",
        "            if attendance_status == 0:\n",
        "                cell.fill = fill_absent\n",
        "            elif attendance_status == 1:\n",
        "                cell.fill = fill_partial\n",
        "            elif attendance_status == 2:\n",
        "                cell.fill = fill_full\n",
        "\n",
        "    wb.save('output_excel.xlsx')"
      ],
      "metadata": {
        "id": "H7BecDuqUjjB"
      },
      "execution_count": 63,
      "outputs": []
    },
    {
      "cell_type": "code",
      "source": [
        "students, lecture_dates, attendance, class_timing = read_files()"
      ],
      "metadata": {
        "id": "gq0TAjNbVEdb"
      },
      "execution_count": 64,
      "outputs": []
    },
    {
      "cell_type": "code",
      "source": [
        "attendance_record = process_attendance(students, lecture_dates, attendance, class_timing)"
      ],
      "metadata": {
        "id": "u_MCcYMtVNM0"
      },
      "execution_count": 65,
      "outputs": []
    },
    {
      "cell_type": "code",
      "source": [
        "generate_excel(attendance_record, lecture_dates)"
      ],
      "metadata": {
        "id": "LyTW2SbCXgt9"
      },
      "execution_count": 66,
      "outputs": []
    },
    {
      "cell_type": "code",
      "source": [],
      "metadata": {
        "id": "cH5_8xnaZIhT"
      },
      "execution_count": null,
      "outputs": []
    }
  ]
}