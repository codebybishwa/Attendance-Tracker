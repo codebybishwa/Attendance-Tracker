{
  "nbformat": 4,
  "nbformat_minor": 0,
  "metadata": {
    "colab": {
      "provenance": [],
      "authorship_tag": "ABX9TyNuH/g6ejGQmsv1lX2de6yE",
      "include_colab_link": true
    },
    "kernelspec": {
      "name": "python3",
      "display_name": "Python 3"
    },
    "language_info": {
      "name": "python"
    }
  },
  "cells": [
    {
      "cell_type": "markdown",
      "metadata": {
        "id": "view-in-github",
        "colab_type": "text"
      },
      "source": [
        "<a href=\"https://colab.research.google.com/github/codebybishwa/Attendance-Tracker/blob/main/Modified_Attendance_Tracker.ipynb\" target=\"_parent\"><img src=\"https://colab.research.google.com/assets/colab-badge.svg\" alt=\"Open In Colab\"/></a>"
      ]
    },
    {
      "cell_type": "code",
      "execution_count": 35,
      "metadata": {
        "id": "Y38r64gdyoz-"
      },
      "outputs": [],
      "source": [
        "import pandas as pd\n",
        "import openpyxl\n",
        "from openpyxl.styles import PatternFill\n",
        "from datetime import datetime, timedelta"
      ]
    },
    {
      "cell_type": "code",
      "source": [
        "import re\n",
        "\n",
        "# Function to read and process the files\n",
        "def read_files():\n",
        "\n",
        "    with open('/content/stud_list.txt', 'r') as file:\n",
        "        students = [line.strip() for line in file.readlines()]\n",
        "\n",
        "    with open('/content/python dates.txt', 'r') as file:\n",
        "        content = file.read()\n",
        "\n",
        "    # Fixing any class_timing without quotes using regex\n",
        "    content = re.sub(r'class_timing\\s*=\\s*([0-9]{2}:[0-9]{2})\\s*-\\s*([0-9]{2}:[0-9]{2})',\n",
        "                     r'class_timing = \"\\1 - \\2\"', content)\n",
        "\n",
        "    # Creating a dictionary to store the variables from python dates.txt\n",
        "    date_vars = {}\n",
        "\n",
        "    try:\n",
        "        exec(content, {}, date_vars)\n",
        "    except SyntaxError as e:\n",
        "        print(f\"Error in executing content: {e}\")\n",
        "        return None, None, None, None\n",
        "\n",
        "    # Extracting the values from date_vars\n",
        "    lecture_dates = date_vars.get(\"classes_taken_dates\", [])\n",
        "    missed_dates = date_vars.get(\"classes_missed_dates\", [])\n",
        "    exam_dates = date_vars.get(\"exams_dates\", [])\n",
        "    class_timing = date_vars.get(\"class_timing\", \"18:00 - 20:00\")  # Default value if not present\n",
        "\n",
        "    attendance = pd.read_csv('/content/input_attendance.csv', parse_dates=['Timestamp'])\n",
        "\n",
        "    return students, lecture_dates, attendance, class_timing\n",
        "\n",
        "students, lecture_dates, attendance, class_timing = read_files()\n",
        "\n",
        "# Printing results to inspect data\n",
        "print(\"Students List (First 5):\", students[:5])\n",
        "print(\"Lecture Dates:\", lecture_dates)\n",
        "print(\"Class Timing:\", class_timing)\n",
        "print(\"Attendance Data (First 5 rows):\")\n",
        "print(attendance.head())"
      ],
      "metadata": {
        "colab": {
          "base_uri": "https://localhost:8080/"
        },
        "id": "_qmGmxX0zPkC",
        "outputId": "5beac290-b765-41af-c184-9fdf06bbcc88"
      },
      "execution_count": 36,
      "outputs": [
        {
          "output_type": "stream",
          "name": "stdout",
          "text": [
            "Students List (First 5): ['2201CB05 Ade Balakrishna', '2201CB11 Anvaya Sharma', '2201CB19 Chhavi Bamoriya', '2201CB21 Dharmraj Dhaker', '2201CB25 Harshita Singh']\n",
            "Lecture Dates: ['06/08/2024', '13/08/2024', '20/08/2024', '27/08/2024', '03/09/2024', '17/09/2024', '01/10/2024']\n",
            "Class Timing: 18:00 - 20:00\n",
            "Attendance Data (First 5 rows):\n",
            "             Timestamp                           Roll\n",
            "0  06/08/2024 18:18:23           2201MM26 Rudra Goyal\n",
            "1  06/08/2024 18:18:26  2201CE30 Lakshya Pratap Singh\n",
            "2  06/08/2024 18:18:26       2201CB19 Chhavi Bamoriya\n",
            "3  06/08/2024 18:18:28          2201CE31 Mayank Kumar\n",
            "4  06/08/2024 18:18:31         2201CB35 Nakka Supraja\n"
          ]
        }
      ]
    },
    {
      "cell_type": "code",
      "source": [
        "from openpyxl import Workbook\n",
        "from openpyxl.styles import PatternFill\n",
        "from datetime import datetime\n",
        "\n",
        "\n",
        "def clean_class_timing(class_timing):\n",
        "    \"\"\"\n",
        "    Ensures that class_timing is a valid string and handles cases where the double quotes are missing.\n",
        "    Returns a cleaned class_timing string with the proper format 'HH:MM - HH:MM'.\n",
        "    \"\"\"\n",
        "    # Remove any non-numeric, colon, or dash characters at the ends (like spaces or quotes)\n",
        "    class_timing = class_timing.strip()\n",
        "\n",
        "    if \" - \" not in class_timing:\n",
        "        raise ValueError(f\"Invalid class_timing format: {class_timing}\")\n",
        "\n",
        "    return class_timing\n",
        "\n",
        "def process_attendance(students, lecture_dates, attendance, class_timing):\n",
        "    \"\"\"\n",
        "    Processes attendance data, caps at 2 per class, tracks proxies, and returns\n",
        "    - attendance_record: capped at 2 per day,\n",
        "    - proxy_record: number of proxies,\n",
        "    - total_classes: the total number of classes (2 per day).\n",
        "    \"\"\"\n",
        "    class_timing = clean_class_timing(class_timing)\n",
        "\n",
        "    start_str, end_str = class_timing.split(\" - \")\n",
        "    start_time = datetime.strptime(start_str, \"%H:%M\").time()\n",
        "    end_time = datetime.strptime(end_str, \"%H:%M\").time()\n",
        "\n",
        "    attendance['Timestamp'] = pd.to_datetime(attendance['Timestamp'], format='%d/%m/%Y %H:%M:%S', errors='raise')\n",
        "\n",
        "    # Initializing records\n",
        "    attendance_record = {student: {date: 0 for date in lecture_dates} for student in students}\n",
        "    proxy_record = {student: {date: 0 for date in lecture_dates} for student in students}\n",
        "    total_classes = len(lecture_dates) * 2  # Each date has 2 classes\n",
        "\n",
        "    for lecture_date in lecture_dates:\n",
        "        lecture_start_str = f\"{lecture_date} {start_time.strftime('%H:%M:%S')}\"\n",
        "        lecture_end_str = f\"{lecture_date} {end_time.strftime('%H:%M:%S')}\"\n",
        "\n",
        "        try:\n",
        "            lecture_start = datetime.strptime(lecture_start_str, '%d/%m/%Y %H:%M:%S')\n",
        "            lecture_end = datetime.strptime(lecture_end_str, '%d/%m/%Y %H:%M:%S')\n",
        "        except ValueError as e:\n",
        "            print(f\"Error parsing date: {lecture_date} - {e}\")\n",
        "            continue\n",
        "\n",
        "        # Filter attendance between class timing\n",
        "        lecture_attendance = attendance[(attendance['Timestamp'] >= lecture_start) & (attendance['Timestamp'] <= lecture_end)]\n",
        "\n",
        "        for student_roll in lecture_attendance['Roll'].unique():\n",
        "            student_entries = lecture_attendance[lecture_attendance['Roll'] == student_roll]\n",
        "            attendance_count = len(student_entries)\n",
        "\n",
        "            # Cap attendance at 2 and treat extra as proxies\n",
        "            if student_roll in attendance_record:\n",
        "                if attendance_count > 2:\n",
        "                    attendance_record[student_roll][lecture_date] = 2  # Cap attendance at 2\n",
        "                    proxy_record[student_roll][lecture_date] = attendance_count - 2  # Proxies are extra\n",
        "                else:\n",
        "                    attendance_record[student_roll][lecture_date] = attendance_count\n",
        "\n",
        "    return attendance_record, proxy_record, total_classes\n",
        "\n",
        "\n",
        "def calculate_summary(attendance_record, proxy_record, lecture_dates, total_classes):\n",
        "    \"\"\"\n",
        "    Calculates the attendance summary for each student including missed, attended, percentage attended,\n",
        "    and percentage missed. Proxies are excluded from these calculations.\n",
        "    \"\"\"\n",
        "    summary = {}\n",
        "\n",
        "    for student, attendance_data in attendance_record.items():\n",
        "        attended_classes = sum(attendance_data[date] for date in lecture_dates)  # Count only valid attendances (max 2 per day)\n",
        "        missed_classes = total_classes - attended_classes  # Calculate missed classes\n",
        "        percentage_attended = (attended_classes / total_classes) * 100\n",
        "        percentage_missed = (missed_classes / total_classes) * 100\n",
        "        total_proxy = proxy_record[student]  # Proxy is counted separately\n",
        "\n",
        "        summary[student] = {\n",
        "            'missed': missed_classes,\n",
        "            'attended': attended_classes,\n",
        "            'percentage_attended': percentage_attended,\n",
        "            'percentage_missed': percentage_missed,\n",
        "            'proxy': total_proxy\n",
        "        }\n",
        "\n",
        "    return summary"
      ],
      "metadata": {
        "id": "ifnmkwbPzR8p"
      },
      "execution_count": 50,
      "outputs": []
    },
    {
      "cell_type": "code",
      "source": [
        "# Process the attendance and output the intermediate attendance record\n",
        "attendance_record, proxy_record, total_classes = process_attendance(students, lecture_dates, attendance, class_timing) # Unpack the returned tuple into three variables\n",
        "\n",
        "# Calculate summary data using proxy_record and total_classes\n",
        "summary_data = calculate_summary(attendance_record, proxy_record, lecture_dates, total_classes)\n",
        "\n",
        "# Output intermediate data for checking\n",
        "print(\"\\nAttendance Record (First 5 Students):\")\n",
        "for student, record in list(attendance_record.items())[:5]:\n",
        "    print(f\"{student}: {record}\")"
      ],
      "metadata": {
        "colab": {
          "base_uri": "https://localhost:8080/"
        },
        "id": "YKjiI7wvzVK2",
        "outputId": "dbf4b145-7671-45e3-92d8-70f2a36b73b8"
      },
      "execution_count": 51,
      "outputs": [
        {
          "output_type": "stream",
          "name": "stdout",
          "text": [
            "\n",
            "Attendance Record (First 5 Students):\n",
            "2201CB05 Ade Balakrishna: {'06/08/2024': 2, '13/08/2024': 2, '20/08/2024': 2, '27/08/2024': 2, '03/09/2024': 2, '17/09/2024': 0, '01/10/2024': 2}\n",
            "2201CB11 Anvaya Sharma: {'06/08/2024': 2, '13/08/2024': 2, '20/08/2024': 2, '27/08/2024': 2, '03/09/2024': 2, '17/09/2024': 2, '01/10/2024': 2}\n",
            "2201CB19 Chhavi Bamoriya: {'06/08/2024': 2, '13/08/2024': 2, '20/08/2024': 2, '27/08/2024': 2, '03/09/2024': 2, '17/09/2024': 2, '01/10/2024': 2}\n",
            "2201CB21 Dharmraj Dhaker: {'06/08/2024': 2, '13/08/2024': 2, '20/08/2024': 1, '27/08/2024': 2, '03/09/2024': 2, '17/09/2024': 2, '01/10/2024': 1}\n",
            "2201CB25 Harshita Singh: {'06/08/2024': 1, '13/08/2024': 2, '20/08/2024': 2, '27/08/2024': 2, '03/09/2024': 2, '17/09/2024': 2, '01/10/2024': 2}\n"
          ]
        }
      ]
    },
    {
      "cell_type": "code",
      "source": [
        "def generate_excel(attendance_record, proxy_record, summary_data, lecture_dates):\n",
        "    \"\"\"\n",
        "    Generates an Excel file with:\n",
        "    - attendance details per day,\n",
        "    - proxy column,\n",
        "    - summary data (attended, missed, percentage attended/missed).\n",
        "    \"\"\"\n",
        "    wb = openpyxl.Workbook()\n",
        "    ws = wb.active\n",
        "    ws.title = 'Attendance Record'\n",
        "\n",
        "    # Header\n",
        "    ws.cell(row=1, column=1, value='Roll No.')\n",
        "    for i, date in enumerate(lecture_dates, start=2):\n",
        "        ws.cell(row=1, column=i, value=date)\n",
        "    ws.cell(row=1, column=len(lecture_dates) + 2, value='Proxy')\n",
        "    ws.cell(row=1, column=len(lecture_dates) + 3, value='Missed')\n",
        "    ws.cell(row=1, column=len(lecture_dates) + 4, value='Attended')\n",
        "    ws.cell(row=1, column=len(lecture_dates) + 5, value='Percentage Attended')\n",
        "    ws.cell(row=1, column=len(lecture_dates) + 6, value='Percentage Missed')\n",
        "\n",
        "    # Color fill settings\n",
        "    fill_absent = PatternFill(start_color=\"FF0000\", end_color=\"FF0000\", fill_type=\"solid\")  # Red for absent\n",
        "    fill_partial = PatternFill(start_color=\"FFFF00\", end_color=\"FFFF00\", fill_type=\"solid\")  # Yellow for partial\n",
        "    fill_full = PatternFill(start_color=\"00FF00\", end_color=\"00FF00\", fill_type=\"solid\")    # Green for full\n",
        "\n",
        "    for row_idx, student_roll in enumerate(attendance_record.keys(), start=2):\n",
        "        ws.cell(row=row_idx, column=1, value=student_roll)  # Roll number\n",
        "\n",
        "        for col_idx, date in enumerate(lecture_dates, start=2):\n",
        "            attendance_status = attendance_record[student_roll][date]\n",
        "            proxy_count = proxy_record[student_roll][date]\n",
        "\n",
        "            # Write attendance status and color cell\n",
        "            if attendance_status == 0:\n",
        "                cell_value = \"0\"\n",
        "                fill_color = fill_absent\n",
        "            elif attendance_status == 1:\n",
        "                cell_value = \"1\"\n",
        "                fill_color = fill_partial\n",
        "            else:\n",
        "                cell_value = f\"{attendance_status + proxy_count}\"  # Include proxy in the cell value\n",
        "                fill_color = fill_full\n",
        "\n",
        "            cell = ws.cell(row=row_idx, column=col_idx, value=cell_value)\n",
        "            cell.fill = fill_color\n",
        "\n",
        "        # Write proxy count for each student\n",
        "        ws.cell(row=row_idx, column=len(lecture_dates) + 2, value=sum(proxy_record[student_roll].values()))\n",
        "\n",
        "        # Write summary data (missed, attended, percentages)\n",
        "        ws.cell(row=row_idx, column=len(lecture_dates) + 3, value=summary_data[student_roll]['missed'])\n",
        "        ws.cell(row=row_idx, column=len(lecture_dates) + 4, value=summary_data[student_roll]['attended'])\n",
        "        ws.cell(row=row_idx, column=len(lecture_dates) + 5, value=summary_data[student_roll]['percentage_attended'])\n",
        "        ws.cell(row=row_idx, column=len(lecture_dates) + 6, value=summary_data[student_roll]['percentage_missed'])\n",
        "\n",
        "    wb.save('output_excel.xlsx')"
      ],
      "metadata": {
        "id": "n0CVpTh-zXwj"
      },
      "execution_count": 52,
      "outputs": []
    },
    {
      "cell_type": "code",
      "source": [
        "students, lecture_dates, attendance, class_timing = read_files()"
      ],
      "metadata": {
        "id": "AC2ejAITzbAq"
      },
      "execution_count": 53,
      "outputs": []
    },
    {
      "cell_type": "code",
      "source": [
        "attendance_record, proxy_record, total_classes = process_attendance(students, lecture_dates, attendance, class_timing)"
      ],
      "metadata": {
        "id": "q2junn8bzdH0"
      },
      "execution_count": 54,
      "outputs": []
    },
    {
      "cell_type": "code",
      "source": [
        "summary_data = calculate_summary(attendance_record, proxy_record, lecture_dates, total_classes)"
      ],
      "metadata": {
        "id": "vA8X8fObzhxP"
      },
      "execution_count": 55,
      "outputs": []
    },
    {
      "cell_type": "code",
      "source": [
        "generate_excel(attendance_record, proxy_record, summary_data, lecture_dates)"
      ],
      "metadata": {
        "id": "eXAzsNu2zj7F"
      },
      "execution_count": 56,
      "outputs": []
    },
    {
      "cell_type": "code",
      "source": [],
      "metadata": {
        "id": "GmgDCpfE_e_C"
      },
      "execution_count": null,
      "outputs": []
    }
  ]
}